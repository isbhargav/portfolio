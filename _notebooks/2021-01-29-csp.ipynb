{
  "cells": [
    {
      "cell_type": "markdown",
      "source": [
        "# \"Solving Logic Puzzles with Symbolic AI (Prolog)\"\n",
        "> \"Solving Constraint Satisfication Problem using Prolog.\"\n",
        "\n",
        "- author: Bhargav Lad\n",
        "- toc: true \n",
        "- badges: true\n",
        "- comments: true\n",
        "- image: images/csp.png\n",
        "- categories: [ jupyter,matplotlib,csp,prolog,CSP,python,brainzilla]\n"
      ],
      "metadata": {}
    },
    {
      "cell_type": "markdown",
      "source": [
        "\n",
        "Problem: https://www.brainzilla.com/logic/logic-grid/agility-competition/\n",
        "\n",
        "The goal of this exercise is to figure out the combination of: the dog’s name, the breed, the task they were best in, and which place they ranked in. We are given the following clues:\n",
        "\n",
        "1. Only the winning dog has the same initial letter in name and breed.\n",
        "2. The Boxer ranked 1 position after the Shepherd. None of them likes the tunnel, nor jumping through the tire.\n",
        "3. Cheetah and the dog who loves the poles were 1st and 3rd.\n",
        "4. Thor doesn’t like the plank and didn’t come 2nd.\n",
        "5. Cheetah either loves the tunnel or she came 4th.\n",
        "6. The dog who loves the plank came 1 position after the dog who loves the poles.\n",
        "7. Suzie is not a Shepherd and Beany doesn’t like the tunnel"
      ],
      "metadata": {
        "nteract": {
          "transient": {
            "deleting": false
          }
        }
      }
    },
    {
      "cell_type": "code",
      "source": [
        "from pyswip import Prolog\n",
        "from  pathlib import Path"
      ],
      "outputs": [],
      "execution_count": 1,
      "metadata": {}
    },
    {
      "cell_type": "markdown",
      "source": [
        "# Database\n",
        "\n",
        "**To solve any CSP we need to define follwing 3 things.**\n",
        "\n",
        "$X:$ a set of variables $\\left\\{X_{1}, \\ldots, X_{n}\\right\\}$\n",
        "\n",
        "$D:$ a set of domains $\\left\\{D_{1}, \\ldots, D_{n}\\right\\},$ one domain per variable\n",
        "\n",
        "$C$ is a set of constraints that specify allowable assignments of values to variables\n",
        "\n",
        "We will define those in our case:\n",
        "\n",
        "***Variables***\n",
        "\n",
        "$X:$ $\\left\\{name,breed,best,rank\\right\\}$\n",
        "\n",
        "\n",
        "***Domains***\n",
        "\n",
        "$D_{name}=\\{beany,cheetah,thor,suzie\\}$\n",
        "\n",
        "$D_{breed}=\\{boxer,collie,shepherd,terrier\\}$\n",
        "\n",
        "$D_{best}=\\{plank,poles,tier,tunnel\\}$\n",
        "\n",
        "$D_{rank}=\\{1,2,3,4\\}$\n",
        "\n",
        "***Constraints***\n",
        "1. Only the winning dog has the same initial letter in name and breed.\n",
        "2. The Boxer ranked 1 position after the Shepherd. None of them likes the tunnel, nor jumping through the tire.\n",
        "3. Cheetah and the dog who loves the poles were 1st and 3rd.\n",
        "4. Thor doesn’t like the plank and didn’t come 2nd.\n",
        "5. Cheetah either loves the tunnel or she came 4th.\n",
        "6. The dog who loves the plank came 1 position after the dog who loves the poles.\n",
        "7. Suzie is not a Shepherd and Beany doesn’t like the tunnel\n",
        "\n",
        "\n",
        "# Code\n",
        "\n",
        "\n",
        "```prolog\n",
        "\n",
        "name(beany).\n",
        "name(cheetah).\n",
        "name(thor).\n",
        "name(suzie).\n",
        "\n",
        "\n",
        "breed(boxer).\n",
        "breed(collie).\n",
        "breed(shepherd).\n",
        "breed(terrier).\n",
        "\n",
        "best(plank).\n",
        "best(poles).\n",
        "best(tire).\n",
        "best(tunnel).\n",
        "\n",
        "rank(1).\n",
        "rank(2).\n",
        "rank(3).\n",
        "rank(4).\n",
        "\n",
        "solve([ [beany,BeanyBreed, BeanyBest, BeanyRank], [cheetah,CheetahBreed, CheetahBest, CheetahRank], [thor,ThorBreed,ThorBest,ThorRank], [suzie,SuzieBreed,SuzieBest,SuzieRank]]):-\n",
        "    breed(BeanyBreed),breed(CheetahBreed),breed(ThorBreed),breed(SuzieBreed),\n",
        "    all_different([BeanyBreed,CheetahBreed,ThorBreed,SuzieBreed]),\n",
        "    \n",
        "    best(BeanyBest),best(CheetahBest),best(ThorBest),best(SuzieBest),\n",
        "    all_different([BeanyBest,CheetahBest,ThorBest,SuzieBest]),\n",
        "\n",
        "    rank(BeanyRank),rank(CheetahRank),rank(ThorRank),rank(SuzieRank),\n",
        "    all_different([BeanyRank,CheetahRank,ThorRank,SuzieRank]),\n",
        "\n",
        "    Table = [ [beany,BeanyBreed, BeanyBest, BeanyRank], [cheetah,CheetahBreed, CheetahBest, CheetahRank], [thor,ThorBreed,ThorBest,ThorRank], [suzie,SuzieBreed,SuzieBest,SuzieRank]],\n",
        "\n",
        "    % 1 condition\n",
        "    \\+(member([beany,boxer,_,2],Table);member([beany,boxer,_,3],Table);member([beany,boxer,_,4],Table);\n",
        "    member([cheetah,collie,_,2],Table);member([cheetah,collie,_,3],Table);member([cheetah,collie,_,4],Table);\n",
        "    member([thor,terrier,_,2],Table);member([thor,terrier,_,3],Table);member([thor,terrier,_,4],Table);\n",
        "    member([suzie,shepherd,_,2],Table);member([suzie,shepherd,_,3],Table);member([suzie,shepherd,_,4],Table)),\n",
        "    (member([beany,boxer,_,1],Table);member([cheetah,collie,_,1],Table);member([thor,terrier,_,1],Table);member([suzie,shepherd,_,1],Table)),\n",
        "\n",
        "    % 2 condition\n",
        "    \\+ member([_,boxer,_,1],Table),\n",
        "    \\+ member([_,shepherd,_,4],Table),\n",
        "\n",
        "    \\+ member([_,shepherd,tunnel,_],Table),\n",
        "    \\+ member([_,shepherd,tire,_],Table),\n",
        "    \\+ member([_,boxer,tunnel,_],Table),\n",
        "    \\+ member([_,boxer,tire,_],Table),\n",
        "\n",
        "    (member([_,boxer,_,X],Table),member([_,shepherd,_,Y],Table),X is Y+1),\n",
        "  \n",
        "\n",
        "    % 3 condition\n",
        "    ((CheetahRank == 1,member([_,_,poles,3],Table));\n",
        "    (CheetahRank == 3),member([_,_,poles,1],Table)),\n",
        "\n",
        "    % 4 condition\n",
        "    (ThorBest \\== plank),\n",
        "    (ThorRank \\== 2),\n",
        "\n",
        "    % 5 condition\n",
        "    (CheetahBest == tunnel;CheetahRank == 2),\n",
        "\n",
        "    % 6 condition\n",
        "    \\+ member([[_,_,plank,1]],Table),\n",
        "    \\+ member([[_,_,poles,4]],Table),\n",
        "    (member([_,_,plank,X],Table),member([_,_,poles,Y],Table),X is Y+1),\n",
        "\n",
        "    % 7 condition\n",
        "    (SuzieBreed \\== shepherd),\n",
        "    (BeanyBest \\== tunnel),\n",
        "\n",
        "    show(beany,BeanyBreed,BeanyBest,BeanyRank),\n",
        "    show(cheetah,CheetahBreed, CheetahBest, CheetahRank),\n",
        "    show(thor,ThorBreed,ThorBest,ThorRank),\n",
        "    show(suzie,SuzieBreed,SuzieBest,SuzieRank).\n",
        "\n",
        "\n",
        "member(X, [X|_]).\n",
        "member(X, [_|Tail]) :- member(X, Tail).\n",
        "\n",
        "all_different([H | T]) :- member(H, T), !, fail.\n",
        "all_different([_ | T]) :- all_different(T).\n",
        "all_different([_]).\n",
        "\n",
        "show( X, Y, Z, W) :- write(' '), write(X), write('\\t'), write(Y),write('\\t'), write(Z),write('\\t'), write(W), write('.'), nl.\n",
        "\n",
        "\n",
        "```\n"
      ],
      "metadata": {}
    },
    {
      "cell_type": "code",
      "source": [
        "prolog = Prolog()\n",
        "# load the database\n",
        "database_file_path = Path('.')/\"database.pl\"\n",
        "prolog.consult(str( database_file_path ))"
      ],
      "outputs": [],
      "execution_count": 2,
      "metadata": {}
    },
    {
      "cell_type": "markdown",
      "source": [
        "# Quering the Database"
      ],
      "metadata": {}
    },
    {
      "cell_type": "code",
      "source": [
        "# Query the database for answers\n",
        "ans = None\n",
        "for g in prolog.query(\"solve([ [beany,BeanyBreed, BeanyBest, BeanyRank], [cheetah,CheetahBreed, CheetahBest, CheetahRank], [thor,ThorBreed,ThorBest,ThorRank], [suzie,SuzieBreed,SuzieBest,SuzieRank]])\"):\n",
        "    ans = g\n",
        "ans"
      ],
      "outputs": [
        {
          "output_type": "execute_result",
          "execution_count": 3,
          "data": {
            "text/plain": "{'BeanyBreed': 'terrier',\n 'BeanyBest': 'tire',\n 'BeanyRank': 2,\n 'CheetahBreed': 'collie',\n 'CheetahBest': 'tunnel',\n 'CheetahRank': 1,\n 'ThorBreed': 'shepherd',\n 'ThorBest': 'poles',\n 'ThorRank': 3,\n 'SuzieBreed': 'boxer',\n 'SuzieBest': 'plank',\n 'SuzieRank': 4}"
          },
          "metadata": {}
        }
      ],
      "execution_count": 3,
      "metadata": {
        "scrolled": true
      }
    },
    {
      "cell_type": "markdown",
      "source": [
        "# Printing answer in table format"
      ],
      "metadata": {}
    },
    {
      "cell_type": "code",
      "source": [
        "print(f\"Beany  , {ans['BeanyBreed']:8}, {ans['BeanyBest']:6}, {ans['BeanyRank']}\")\n",
        "print(f\"Cheetah, {ans['CheetahBreed']:8}, {ans['CheetahBest']:6}, {ans['CheetahRank']}\")\n",
        "print(f\"Thor   , {ans['ThorBreed']:8}, {ans['ThorBest']:6}, {ans['ThorRank']}\")\n",
        "print(f\"Suzie  , {ans['SuzieBreed']:8}, {ans['SuzieBest']:6}, {ans['SuzieRank']}\")"
      ],
      "outputs": [
        {
          "output_type": "stream",
          "name": "stdout",
          "text": [
            "Beany  , terrier , tire  , 2\n",
            "Cheetah, collie  , tunnel, 1\n",
            "Thor   , shepherd, poles , 3\n",
            "Suzie  , boxer   , plank , 4\n"
          ]
        }
      ],
      "execution_count": 4,
      "metadata": {}
    },
    {
      "cell_type": "code",
      "source": [],
      "outputs": [],
      "execution_count": null,
      "metadata": {}
    }
  ],
  "metadata": {
    "kernelspec": {
      "display_name": "Python 3",
      "language": "python",
      "name": "python3"
    },
    "language_info": {
      "codemirror_mode": {
        "name": "ipython",
        "version": 3
      },
      "file_extension": ".py",
      "mimetype": "text/x-python",
      "name": "python",
      "nbconvert_exporter": "python",
      "pygments_lexer": "ipython3",
      "version": "3.8.5"
    },
    "nteract": {
      "version": "0.28.0"
    }
  },
  "nbformat": 4,
  "nbformat_minor": 4
}