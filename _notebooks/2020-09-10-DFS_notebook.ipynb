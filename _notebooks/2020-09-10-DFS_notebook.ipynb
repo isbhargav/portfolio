{
  "cells": [
    {
      "cell_type": "code",
      "source": [
        "# \"Building a State Space Maze Search in Python : DFS\"\n",
        "> \"Solving Maze Puzzles with python and matplotlib\"\n",
        "\n",
        "- author: Bhargav Lad\n",
        "- toc: true \n",
        "- badges: true\n",
        "- comments: true\n",
        "- image: images/maze.png\n",
        "- categories: [ jupyter,matplotlib,DFS,Maze-solving]"
      ],
      "outputs": [
        {
          "output_type": "error",
          "ename": "SyntaxError",
          "evalue": "invalid syntax (<ipython-input-6-16c51b400e43>, line 2)",
          "traceback": [
            "\u001b[0;36m  File \u001b[0;32m\"<ipython-input-6-16c51b400e43>\"\u001b[0;36m, line \u001b[0;32m2\u001b[0m\n\u001b[0;31m    > \"Solving Maze Puzzles with python and matplotlib\"\u001b[0m\n\u001b[0m    ^\u001b[0m\n\u001b[0;31mSyntaxError\u001b[0m\u001b[0;31m:\u001b[0m invalid syntax\n"
          ]
        }
      ],
      "execution_count": 6,
      "metadata": {
        "collapsed": true,
        "jupyter": {
          "source_hidden": false,
          "outputs_hidden": false
        },
        "nteract": {
          "transient": {
            "deleting": false
          }
        },
        "execution": {
          "iopub.status.busy": "2021-03-25T21:16:11.871Z",
          "iopub.execute_input": "2021-03-25T21:16:11.885Z"
        }
      }
    },
    {
      "cell_type": "markdown",
      "source": [
        "\n",
        "In this notebook we will use depth first search(DFS) to find solution for the given Maze.\n",
        "We will start by importing the libraries required for the code.\n",
        "\n",
        "- `clear_output` -  used to clear cell output\n",
        "- `matplotlib.pyplot` - use to plot the maze path\n",
        "- `%matplotlib inline` - to properly format matplotlib output inside jupyter notebook"
      ],
      "metadata": {}
    },
    {
      "cell_type": "code",
      "source": [
        "import matplotlib.pyplot as plt\n",
        "from IPython.display import clear_output\n",
        "%matplotlib inline"
      ],
      "outputs": [],
      "execution_count": 1,
      "metadata": {
        "execution": {
          "iopub.execute_input": "2021-02-01T18:37:08.038Z",
          "iopub.status.busy": "2021-02-01T18:37:07.991Z",
          "iopub.status.idle": "2021-02-01T18:37:08.738Z",
          "shell.execute_reply": "2021-02-01T18:37:08.756Z"
        }
      }
    },
    {
      "cell_type": "markdown",
      "source": [
        "We will start by reading the maze file and reading it into python list with preprocessing\n",
        "\n",
        "here we will substitue % and . with number so that matplotlib can correcly render the maze\n",
        "\n",
        "- `%` is substituted as `0`\n",
        "- `  ` is substituted as `2`\n"
      ],
      "metadata": {}
    },
    {
      "cell_type": "code",
      "source": [
        "file_name = \"BigMaze.txt\"\n",
        "maze = []\n",
        "start = None\n",
        "stop = None\n",
        "with open(file_name, 'r') as file:\n",
        "    for i,line in enumerate(file):\n",
        "        line = line.rstrip()\n",
        "        row = []\n",
        "        for j,c in enumerate(line):\n",
        "            if c=='P':\n",
        "                start = (i,j)  # start\n",
        "                row.append(1)\n",
        "            elif c=='.':\n",
        "                stop = (i,j)  # stop\n",
        "                row.append(1)\n",
        "            elif c == '%':\n",
        "                row.append(0) #  % are 0s\n",
        "            else:\n",
        "                row.append(2) #  spaces are 1s\n",
        "        maze.append(row)\n",
        "\n",
        "ROW = len(maze)\n",
        "COL = len(maze[0])\n",
        "\n",
        "fig,ax = plt.subplots(figsize=(7,7))   \n",
        "ax.pcolor(maze)\n",
        "ax.set_xticks([]) # remove the tick marks by setting to an empty list\n",
        "ax.set_yticks([]) # remove the tick marks by setting to an empty list\n",
        "ax.set_aspect('equal')\n",
        "ax.invert_yaxis() #invert the y-axis so the first row of data is at the top "
      ],
      "outputs": [
        {
          "output_type": "display_data",
          "data": {
            "image/png": "[encoded data removed]",
            "text/plain": "<Figure size 504x504 with 1 Axes>"
          },
          "metadata": {}
        }
      ],
      "execution_count": 2,
      "metadata": {
        "execution": {
          "iopub.execute_input": "2021-02-01T18:45:34.031Z",
          "iopub.status.busy": "2021-02-01T18:45:34.023Z",
          "iopub.status.idle": "2021-02-01T18:45:34.048Z",
          "shell.execute_reply": "2021-02-01T18:45:34.057Z"
        }
      }
    },
    {
      "cell_type": "code",
      "source": [
        "import copy\n",
        "copy_maze = copy.deepcopy(maze)"
      ],
      "outputs": [],
      "execution_count": 3,
      "metadata": {
        "execution": {
          "iopub.execute_input": "2021-02-01T18:45:35.183Z",
          "iopub.status.busy": "2021-02-01T18:45:35.173Z",
          "iopub.status.idle": "2021-02-01T18:45:35.192Z",
          "shell.execute_reply": "2021-02-01T18:45:35.156Z"
        }
      }
    },
    {
      "cell_type": "code",
      "source": [
        "ROW,COL"
      ],
      "outputs": [
        {
          "output_type": "execute_result",
          "execution_count": 4,
          "data": {
            "text/plain": "(37, 37)"
          },
          "metadata": {}
        }
      ],
      "execution_count": 4,
      "metadata": {
        "execution": {
          "iopub.execute_input": "2021-02-01T18:45:35.302Z",
          "iopub.status.busy": "2021-02-01T18:45:35.291Z",
          "iopub.status.idle": "2021-02-01T18:45:35.322Z",
          "shell.execute_reply": "2021-02-01T18:45:35.330Z"
        }
      }
    },
    {
      "cell_type": "markdown",
      "source": [
        "# Psuedo Code of DFS\n",
        "```\n",
        "      DFS(G,v)   ( v is the vertex where the search starts )\n",
        "         Stack S := {};   ( start with an empty stack )\n",
        "         for each vertex u, set visited[u] := false;\n",
        "         push S, v;\n",
        "         while (S is not empty) do\n",
        "            u := pop S;\n",
        "            if (not visited[u]) then\n",
        "               visited[u] := true;\n",
        "               for each unvisited neighbour w of u\n",
        "                  push S, w;\n",
        "            end if\n",
        "         end while\n",
        "      END DFS()\n",
        "```\n",
        "source: http://www.cs.toronto.edu/~heap/270F02/node36.html\n",
        "\n",
        "Here they have described an iterative implementation but I will implement in recursive way which is much easier to code."
      ],
      "metadata": {}
    },
    {
      "cell_type": "code",
      "source": [
        "def DFS(maze,start,stop,WALL):\n",
        "    visited = set() # visited set so that we do not visist them again\n",
        "    parent = dict() # contains parent of each cell from which it is visited\n",
        "    \n",
        "    visited.add(start) # add start to visited\n",
        "    parent[start]=start  # make start as parent of itself because it is source cell\n",
        "    SZ=7 # size of plot\n",
        "    \n",
        "    def _dfs(f):\n",
        "        clear_output(wait=True)  # clear previous output\n",
        "        \n",
        "        # mark f as visited\n",
        "        visited.add(f)\n",
        "        \n",
        "        # Code to display visited cell\n",
        "        copy_maze[f[0]][f[1]]=1;  # \n",
        "        fig,ax = plt.subplots(figsize=(SZ,SZ)) \n",
        "        ax.pcolor(copy_maze)\n",
        "        ax.set_xticks([]) # remove the tick marks by setting to an empty list\n",
        "        ax.set_yticks([]) # remove the tick marks by setting to an empty list\n",
        "        ax.set_aspect('equal') # same aspect ratio for X and Y\n",
        "        ax.invert_yaxis() #invert the y-axis so the first row of data is at the top \n",
        "        plt.show()\n",
        "        \n",
        "                \n",
        "        # get all the 4 neighbours of f\n",
        "        top = (f[0]-1,f[1]+0)\n",
        "        bottom = (f[0]+1,f[1]+0)\n",
        "        left = (f[0]+0,f[1]-1)\n",
        "        right = (f[0]+0,f[1]+1)\n",
        "        \n",
        "        # if f is the destination vertex we are done\n",
        "        if f==stop:\n",
        "            print(\"Found Path\")\n",
        "            return True\n",
        "        \n",
        "        # visit the valid neighbours that are not yet visited\n",
        "        for pos in [top,bottom,left,right]:\n",
        "            if -1<pos[0]<ROW and -1<pos[1]<COL and maze[pos[0]][pos[1]]!=WALL and pos not in visited:\n",
        "                parent[pos]=f\n",
        "                if _dfs(pos) == True:\n",
        "                    return True\n",
        "                \n",
        "        # if no path found\n",
        "        return False\n",
        "      \n",
        "    _dfs(start)\n",
        "    \n",
        "    # code to get the actual path\n",
        "    p = stop\n",
        "    path = [p]\n",
        "    while parent[p]!=p:\n",
        "        p = parent[p]\n",
        "        path.append(p)\n",
        "        \n",
        "    return path\n",
        "\n"
      ],
      "outputs": [],
      "execution_count": 5,
      "metadata": {
        "execution": {
          "iopub.execute_input": "2021-02-01T18:45:35.913Z",
          "iopub.status.busy": "2021-02-01T18:45:35.906Z",
          "iopub.status.idle": "2021-02-01T18:45:35.926Z",
          "shell.execute_reply": "2021-02-01T18:45:35.933Z"
        }
      }
    },
    {
      "cell_type": "code",
      "source": [
        "# call the function to get the path\n",
        "dfs_path = DFS(maze,start,stop,0)"
      ],
      "outputs": [
        {
          "output_type": "display_data",
          "data": {
            "image/png": "[encoded data removed]",
            "text/plain": "<Figure size 504x504 with 1 Axes>"
          },
          "metadata": {}
        },
        {
          "output_type": "stream",
          "name": "stdout",
          "text": [
            "Found Path\n"
          ]
        }
      ],
      "execution_count": 6,
      "metadata": {
        "execution": {
          "iopub.execute_input": "2021-02-01T18:45:36.466Z",
          "iopub.status.busy": "2021-02-01T18:45:36.460Z",
          "iopub.status.idle": "2021-02-01T18:45:36.483Z",
          "shell.execute_reply": "2021-02-01T18:45:36.490Z"
        },
        "scrolled": false
      }
    },
    {
      "cell_type": "code",
      "source": [
        "# mark the path with 1 in maze\n",
        "for p in dfs_path:\n",
        "    maze[p[0]][p[1]]=1"
      ],
      "outputs": [],
      "execution_count": 7,
      "metadata": {}
    },
    {
      "cell_type": "code",
      "source": [
        "# fig,ax = plt.subplots(1,1,figsize=(SZ,SZ))  \n",
        "SZ=15\n",
        "fig,ax = plt.subplots(1,2,figsize=(SZ,SZ))   \n",
        "ax[0].pcolor(copy_maze)\n",
        "ax[0].set_xticks([]) # remove the tick marks by setting to an empty list\n",
        "ax[0].set_yticks([]) # remove the tick marks by setting to an empty list\n",
        "ax[0].set_aspect('equal')\n",
        "ax[0].invert_yaxis() #invert the y-axis so the first row of data is at the top \n",
        "ax[0].set_title(\"All the Visited cells\")\n",
        "\n",
        "ax[1].pcolor(maze)\n",
        "ax[1].set_xticks([]) # remove the tick marks by setting to an empty list\n",
        "ax[1].set_yticks([]) # remove the tick marks by setting to an empty list\n",
        "ax[1].set_aspect('equal')\n",
        "ax[1].invert_yaxis() #invert the y-axis so the first row of data is at the top \n",
        "ax[1].set_title(\"Final DFS Path\")"
      ],
      "outputs": [
        {
          "output_type": "execute_result",
          "execution_count": 8,
          "data": {
            "text/plain": "Text(0.5, 1.0, 'Final DFS Path')"
          },
          "metadata": {}
        },
        {
          "output_type": "display_data",
          "data": {
            "image/png": "[encoded data removed]",
            "text/plain": "<Figure size 1080x1080 with 2 Axes>"
          },
          "metadata": {}
        }
      ],
      "execution_count": 8,
      "metadata": {
        "execution": {
          "iopub.execute_input": "2021-02-01T18:45:37.167Z",
          "iopub.status.busy": "2021-02-01T18:45:37.108Z",
          "iopub.status.idle": "2021-02-01T18:45:37.435Z",
          "shell.execute_reply": "2021-02-01T18:45:37.452Z"
        }
      }
    },
    {
      "cell_type": "code",
      "source": [],
      "outputs": [],
      "execution_count": null,
      "metadata": {}
    },
    {
      "cell_type": "code",
      "source": [],
      "outputs": [],
      "execution_count": null,
      "metadata": {
        "collapsed": true,
        "jupyter": {
          "outputs_hidden": false,
          "source_hidden": false
        },
        "nteract": {
          "transient": {
            "deleting": false
          }
        }
      }
    }
  ],
  "metadata": {
    "kernelspec": {
      "display_name": "Python 3",
      "language": "python",
      "name": "python3"
    },
    "language_info": {
      "name": "python",
      "version": "3.8.5",
      "mimetype": "text/x-python",
      "codemirror_mode": {
        "name": "ipython",
        "version": 3
      },
      "pygments_lexer": "ipython3",
      "nbconvert_exporter": "python",
      "file_extension": ".py"
    },
    "nteract": {
      "version": "0.28.0"
    }
  },
  "nbformat": 4,
  "nbformat_minor": 4
}