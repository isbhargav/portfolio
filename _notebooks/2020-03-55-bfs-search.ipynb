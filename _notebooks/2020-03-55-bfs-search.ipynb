{
 "cells": [
  {
   "cell_type": "markdown",
   "metadata": {},
   "source": [
    "# \" Building a State Space Maze Search in Python : BFS\"\n",
    "> \" Building a State Space Maze Search in Python using breadth first search and visualizing the search using matplotlib\"\n",
    "\n",
    "- author: Bhargav Lad\n",
    "- toc: true \n",
    "- badges: true\n",
    "- comments: true\n",
    "- image: images/maze.jpg\n",
    "- categories: [ jupyter,matplotlib,BFS,Breadth-first-search]"
   ]
  },
  {
   "cell_type": "markdown",
   "metadata": {},
   "source": [
    "In this notebook we will use breath first search(BFS) to find solution for the given Maze.\n",
    "We will start by importing the libraries required for the code.\n",
    "\n",
    "- `clear_output` -  used to clear cell output\n",
    "- `matplotlib.pyplot` - use to plot the maze path\n",
    "- `%matplotlib inline` - to properly format matplotlib output inside jupyter notebook"
   ]
  },
  {
   "cell_type": "code",
   "execution_count": 1,
   "metadata": {
    "execution": {
     "iopub.execute_input": "2021-02-01T22:32:11.302Z",
     "iopub.status.busy": "2021-02-01T22:32:11.287Z",
     "iopub.status.idle": "2021-02-01T22:32:12.180Z",
     "shell.execute_reply": "2021-02-01T22:32:12.237Z"
    }
   },
   "outputs": [],
   "source": [
    "import matplotlib.pyplot as plt\n",
    "from IPython.display import clear_output\n",
    "%matplotlib inline"
   ]
  },
  {
   "cell_type": "markdown",
   "metadata": {},
   "source": [
    "We will start by reading the maze file and reading it into python list with preprocessing\n",
    "\n",
    "here we will substitue % and . with number so that matplotlib can correcly render the maze\n",
    "\n",
    "- `%` is substituted as `0`\n",
    "- `  ` is substituted as `2`\n"
   ]
  },
  {
   "cell_type": "code",
   "execution_count": null,
   "metadata": {},
   "outputs": [],
   "source": [
    "!cat BigMaze.txt"
   ]
  },
  {
   "cell_type": "code",
   "execution_count": 2,
   "metadata": {
    "execution": {
     "iopub.execute_input": "2021-02-01T22:32:12.776Z",
     "iopub.status.busy": "2021-02-01T22:32:12.761Z",
     "iopub.status.idle": "2021-02-01T22:32:12.827Z",
     "shell.execute_reply": "2021-02-01T22:32:12.850Z"
    }
   },
   "outputs": [
    {
     "data": {
      "image/png": "[encoded data removed]",
      "text/plain": [
       "<Figure size 504x504 with 1 Axes>"
      ]
     },
     "metadata": {},
     "output_type": "display_data"
    }
   ],
   "source": [
    "file_name = \"BigMaze.txt\"\n",
    "maze = []\n",
    "start = None\n",
    "stop = None\n",
    "with open(file_name, 'r') as file:\n",
    "    for i,line in enumerate(file):\n",
    "        line = line.rstrip()\n",
    "        row = []\n",
    "        for j,c in enumerate(line):\n",
    "            if c=='P':\n",
    "                start = (i,j)  # start\n",
    "                row.append(1)\n",
    "            elif c=='.':\n",
    "                stop = (i,j)  # stop\n",
    "                row.append(1)\n",
    "            elif c == '%':\n",
    "                row.append(0) #  % are 0s\n",
    "            else:\n",
    "                row.append(2) #  spaces are 1s\n",
    "        maze.append(row)\n",
    "\n",
    "ROW = len(maze)\n",
    "COL = len(maze[0])\n",
    "\n",
    "fig,ax = plt.subplots(figsize=(7,7))   \n",
    "ax.pcolor(maze)\n",
    "ax.set_xticks([]) # remove the tick marks by setting to an empty list\n",
    "ax.set_yticks([]) # remove the tick marks by setting to an empty list\n",
    "ax.set_aspect('equal')\n",
    "ax.invert_yaxis() #invert the y-axis so the first row of data is at the top "
   ]
  },
  {
   "cell_type": "code",
   "execution_count": 3,
   "metadata": {
    "execution": {
     "iopub.execute_input": "2021-02-01T22:32:13.707Z",
     "iopub.status.busy": "2021-02-01T22:32:13.699Z",
     "iopub.status.idle": "2021-02-01T22:32:13.724Z",
     "shell.execute_reply": "2021-02-01T22:32:13.733Z"
    }
   },
   "outputs": [],
   "source": [
    "import copy\n",
    "copy_maze = copy.deepcopy(maze)"
   ]
  },
  {
   "cell_type": "code",
   "execution_count": 4,
   "metadata": {
    "execution": {
     "iopub.execute_input": "2021-02-01T22:32:14.788Z",
     "iopub.status.busy": "2021-02-01T22:32:14.779Z",
     "iopub.status.idle": "2021-02-01T22:32:14.809Z",
     "shell.execute_reply": "2021-02-01T22:32:14.820Z"
    }
   },
   "outputs": [
    {
     "data": {
      "text/plain": [
       "(37, 37)"
      ]
     },
     "execution_count": 4,
     "metadata": {},
     "output_type": "execute_result"
    }
   ],
   "source": [
    "ROW,COL"
   ]
  },
  {
   "cell_type": "markdown",
   "metadata": {},
   "source": [
    "# Psuedo Code of BFS\n",
    "```\n",
    "      BFS (G, s)                   //Where G is the graph and s is the source node\n",
    "      let Q be queue.\n",
    "      Q.enqueue( s ) //Inserting s in queue until all its neighbour vertices are marked.\n",
    "\n",
    "      mark s as visited.\n",
    "      while ( Q is not empty)\n",
    "           //Removing that vertex from queue,whose neighbour will be visited now\n",
    "           v  =  Q.dequeue( )\n",
    "\n",
    "          //processing all the neighbours of v  \n",
    "          for all neighbours w of v in Graph G\n",
    "               if w is not visited \n",
    "                        Q.enqueue( w )             //Stores w in Q to further visit its neighbour\n",
    "                        mark w as visited.\n",
    "```\n",
    "source: https://www.hackerearth.com/practice/algorithms/graphs/breadth-first-search/tutorial/\n",
    "\n",
    "Here we will use deque datastructure to model queue for out BFS search."
   ]
  },
  {
   "cell_type": "code",
   "execution_count": 5,
   "metadata": {
    "execution": {
     "iopub.execute_input": "2021-02-01T22:32:15.606Z",
     "iopub.status.busy": "2021-02-01T22:32:15.596Z",
     "iopub.status.idle": "2021-02-01T22:32:15.628Z",
     "shell.execute_reply": "2021-02-01T22:32:15.638Z"
    }
   },
   "outputs": [],
   "source": [
    "from collections import deque\n",
    "SZ=7\n",
    "\n",
    "def BFS(maze,start,stop,WALL):\n",
    "    q = deque()  # queue of the nodes\n",
    "    visited = set() # visited set so that we do not visist them again\n",
    "    parent = dict() # contains parent of each cell from which it is visited\n",
    "    \n",
    "    q.append(start)  # add start to the queue\n",
    "    visited.add(start) # mark start as visited\n",
    "    parent[start]=start  # parent of start is start as it the first node\n",
    "\n",
    "\n",
    "    while len(q)>0:\n",
    "        \n",
    "        # pop the first element of queue\n",
    "        f = q.popleft()\n",
    "        \n",
    "        # if it is the destination then we can break out of loop\n",
    "        if f==stop:\n",
    "            print(\"Found Path\")\n",
    "            break;\n",
    "            \n",
    "\n",
    "        # get all the 4 neighbours of f\n",
    "        top = (f[0]-1,f[1]+0)\n",
    "        bottom = (f[0]+1,f[1]+0)\n",
    "        left = (f[0]+0,f[1]-1)\n",
    "        right = (f[0]+0,f[1]+1)\n",
    "\n",
    "        # add all the valid neighbours that are not yet visited to the queue\n",
    "        for pos in [top,bottom,left,right]:\n",
    "            if -1<pos[0]<ROW and -1<pos[1]<COL and maze[pos[0]][pos[1]]!=WALL and pos not in visited:\n",
    "                q.append(pos)\n",
    "                visited.add(pos)\n",
    "                parent[pos]=f\n",
    "                \n",
    "                # Code to display visited cell\n",
    "                clear_output(wait=True)\n",
    "                copy_maze[pos[0]][pos[1]]=1;\n",
    "                fig,ax = plt.subplots(figsize=(SZ,SZ)) \n",
    "                ax.pcolor(copy_maze)\n",
    "                ax.set_xticks([]) # remove the tick marks by setting to an empty list\n",
    "                ax.set_yticks([]) # remove the tick marks by setting to an empty list\n",
    "                ax.set_aspect('equal')\n",
    "                ax.invert_yaxis() #invert the y-axis so the first row of data is at the top \n",
    "                \n",
    "                plt.show()\n",
    "                \n",
    "\n",
    "    # code to get the actual path\n",
    "    p = stop\n",
    "    path = [p]\n",
    "    while parent[p]!=p:\n",
    "        p = parent[p]\n",
    "        path.append(p)\n",
    "        \n",
    "    return path\n",
    "\n"
   ]
  },
  {
   "cell_type": "code",
   "execution_count": 6,
   "metadata": {
    "execution": {
     "iopub.execute_input": "2021-02-01T22:32:16.308Z",
     "iopub.status.busy": "2021-02-01T22:32:16.299Z",
     "iopub.status.idle": "2021-02-01T22:32:16.337Z",
     "shell.execute_reply": "2021-02-01T22:32:16.348Z"
    }
   },
   "outputs": [
    {
     "data": {
      "image/png": "[encoded data removed]",
      "text/plain": [
       "<Figure size 504x504 with 1 Axes>"
      ]
     },
     "metadata": {},
     "output_type": "display_data"
    },
    {
     "name": "stdout",
     "output_type": "stream",
     "text": [
      "Found Path\n"
     ]
    }
   ],
   "source": [
    "bfs_path = BFS(maze,start,stop,0)"
   ]
  },
  {
   "cell_type": "code",
   "execution_count": 7,
   "metadata": {},
   "outputs": [],
   "source": [
    "for p in bfs_path:\n",
    "    maze[p[0]][p[1]]=1"
   ]
  },
  {
   "cell_type": "code",
   "execution_count": 8,
   "metadata": {
    "execution": {
     "iopub.execute_input": "2021-02-01T22:32:16.831Z",
     "iopub.status.busy": "2021-02-01T22:32:16.822Z",
     "iopub.status.idle": "2021-02-01T22:32:17.183Z",
     "shell.execute_reply": "2021-02-01T22:32:17.197Z"
    }
   },
   "outputs": [
    {
     "data": {
      "text/plain": [
       "Text(0.5, 1.0, 'Final BFS Path')"
      ]
     },
     "execution_count": 8,
     "metadata": {},
     "output_type": "execute_result"
    },
    {
     "data": {
      "image/png": "[encoded data removed]",
      "text/plain": [
       "<Figure size 1080x1080 with 2 Axes>"
      ]
     },
     "metadata": {},
     "output_type": "display_data"
    }
   ],
   "source": [
    "# fig,ax = plt.subplots(1,1,figsize=(SZ,SZ))  \n",
    "SZ=15\n",
    "fig,ax = plt.subplots(1,2,figsize=(SZ,SZ))   \n",
    "ax[0].pcolor(copy_maze)\n",
    "ax[0].set_xticks([]) # remove the tick marks by setting to an empty list\n",
    "ax[0].set_yticks([]) # remove the tick marks by setting to an empty list\n",
    "ax[0].set_aspect('equal')\n",
    "ax[0].invert_yaxis() #invert the y-axis so the first row of data is at the top \n",
    "ax[0].set_title(\"All the Visited cells\")\n",
    "\n",
    "ax[1].pcolor(maze)\n",
    "ax[1].set_xticks([]) # remove the tick marks by setting to an empty list\n",
    "ax[1].set_yticks([]) # remove the tick marks by setting to an empty list\n",
    "ax[1].set_aspect('equal')\n",
    "ax[1].invert_yaxis() #invert the y-axis so the first row of data is at the top \n",
    "ax[1].set_title(\"Final BFS Path\")"
   ]
  },
  {
   "cell_type": "code",
   "execution_count": null,
   "metadata": {},
   "outputs": [],
   "source": []
  }
 ],
 "metadata": {
  "kernelspec": {
   "display_name": "Python 3",
   "language": "python",
   "name": "python3"
  },
  "language_info": {
   "codemirror_mode": {
    "name": "ipython",
    "version": 3
   },
   "file_extension": ".py",
   "mimetype": "text/x-python",
   "name": "python",
   "nbconvert_exporter": "python",
   "pygments_lexer": "ipython3",
   "version": "3.8.5"
  },
  "nteract": {
   "version": "0.28.0"
  }
 },
 "nbformat": 4,
 "nbformat_minor": 4
}
